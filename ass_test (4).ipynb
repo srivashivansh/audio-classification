{
  "nbformat": 4,
  "nbformat_minor": 0,
  "metadata": {
    "colab": {
      "name": "ass_test.ipynb",
      "provenance": [],
      "collapsed_sections": []
    },
    "kernelspec": {
      "name": "python3",
      "display_name": "Python 3"
    },
    "language_info": {
      "name": "python"
    }
  },
  "cells": [
    {
      "cell_type": "code",
      "metadata": {
        "colab": {
          "base_uri": "https://localhost:8080/"
        },
        "id": "DXfblMzVqhDe",
        "outputId": "cd6fee29-1d40-424f-8683-791655932158"
      },
      "source": [
        "# You can comment this section if it does not work on your platform (windows)\n",
        "# To put a hard limit on run time\n",
        "# the code will run for \"maxMinutes\" minutes at most\n",
        "maxMinutes = 2\n",
        "import signal\n",
        "def signal_handler(signum, frame):\n",
        "    raise Exception(\"Timed out!\")\n",
        "signal.signal(signal.SIGALRM, signal_handler)\n",
        "signal.alarm(maxMinutes*60)   # seconds"
      ],
      "execution_count": null,
      "outputs": [
        {
          "output_type": "execute_result",
          "data": {
            "text/plain": [
              "0"
            ]
          },
          "metadata": {},
          "execution_count": 1
        }
      ]
    },
    {
      "cell_type": "code",
      "metadata": {
        "id": "ZLC2QTgkqvfL"
      },
      "source": [
        "import numpy as np"
      ],
      "execution_count": null,
      "outputs": []
    },
    {
      "cell_type": "code",
      "metadata": {
        "id": "bcMn_EHgq8Zn"
      },
      "source": [
        "def readDir(mod):\n",
        "  dir = ''  # give your directory path \n",
        "  Fs = 16000\n",
        "  x = mod.readDir(dir,Fs)\n",
        "  Nsamples = 10 * Fs\n",
        "  assert x.shape[1] == Nsamples\n",
        "  print('readDir Test passed', '\\U0001F44D')  \n",
        "  return "
      ],
      "execution_count": null,
      "outputs": []
    },
    {
      "cell_type": "code",
      "metadata": {
        "id": "xkcDv21vss7o"
      },
      "source": [
        "def load_audio(mod):\n",
        "  x = mod.load_audio('filename', Fs = 16000) #give filename\n",
        "  assert x != 'None'\n",
        "  return "
      ],
      "execution_count": null,
      "outputs": []
    },
    {
      "cell_type": "code",
      "metadata": {
        "id": "1gAy5dBX4H8K"
      },
      "source": [
        "def splitData(mod):           # partial marking scheme\n",
        "  marks = 0\n",
        "  X = np.ones((50,2))\n",
        "  t = np.ones((50,2))\n",
        "  testFraction = 0.2\n",
        "\n",
        "  X_train, t_train, X_test, t_test = mod.splitData(X, t, testFraction=0.2, randomize = False)\n",
        "  if np.isclose(X.shape[0], (X_train.shape[0] + X_test.shape[0]), atol = 0.1):\n",
        "    print(\"Test splitData_A passed\", \"\\U0001F44D\")\n",
        "    marks += 0.5\n",
        "  \n",
        "  if np.isclose(X_test.shape[0], (X.shape[0] * testFraction), atol = 0.1):\n",
        "    print(\"Test splitData_B passed\", \"\\U0001F44D\")\n",
        "    marks += 0.5\n",
        "  return marks"
      ],
      "execution_count": null,
      "outputs": []
    },
    {
      "cell_type": "code",
      "metadata": {
        "id": "lKo4jw_4ic7V"
      },
      "source": [
        "def audio2mfcc(mod):\n",
        "  x = np.random.rand(15, 160000)      # (Nclips, 10*Fs)\n",
        "  n_mfcc = 20\n",
        "  X = mod.audio2mfcc(x, n_mfcc = 20, Fs = 16000)\n",
        "  assert X.shape[1] == n_mfcc\n",
        "  print('audio2mfcc Test passed', '\\U0001F44D')\n",
        "  return"
      ],
      "execution_count": null,
      "outputs": []
    },
    {
      "cell_type": "code",
      "metadata": {
        "id": "ieBstIzEqKPu"
      },
      "source": [
        "def predict_framewise(mod):\n",
        "  class_mod = mod.Classifier()\n",
        "  x = np.random.rand(10,20,313)                     # x_test: (Nclips, N_mfcc, N_frames)\n",
        "  N_frames = x.shape[2]\n",
        "  y_pred = class_mod.predict_framewise(x)           # y_predict: (Nclips, 2, N_frames) \n",
        "  assert y_pred.shape[0] == x.shape[0]\n",
        "  print('predict_framewise Test passed', '\\U0001F44D')\n",
        "  return"
      ],
      "execution_count": null,
      "outputs": []
    },
    {
      "cell_type": "code",
      "metadata": {
        "id": "BMDgu5AqqY0R"
      },
      "source": [
        "def predict_aggregate(mod):\n",
        "  class_mod = mod.Classifier()\n",
        "  x = np.random.rand(10,2,313)\n",
        "  y_pred = class_mod.predict_aggregate(x)   # y_predict: (Nclips, 2, N_frames)\n",
        "  assert y_pred.shape[0]== x.shape[0]\n",
        "  print('predict_aggregate Test passed', '\\U0001F44D')\n",
        "  return"
      ],
      "execution_count": null,
      "outputs": []
    },
    {
      "cell_type": "code",
      "metadata": {
        "id": "S93teoCTqedg"
      },
      "source": [
        "def computeCM(mod):\n",
        "  y_hat = np.ones([4,2])\n",
        "  y = np.array([[1,0]]*y_hat.shape[0])\n",
        "  CM = mod.computeCM(y, y_hat)\n",
        "  assert CM.shape == (2,2)\n",
        "  return"
      ],
      "execution_count": null,
      "outputs": []
    }
  ]
}